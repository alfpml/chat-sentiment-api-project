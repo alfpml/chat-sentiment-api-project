{
 "cells": [
  {
   "cell_type": "code",
   "execution_count": 1,
   "metadata": {},
   "outputs": [
    {
     "name": "stdout",
     "output_type": "stream",
     "text": [
      "Insert your AtlasMongoDB admin_1019 password: ········\n"
     ]
    }
   ],
   "source": [
    "from bottle import route, run, get, post, request\n",
    "from bson.json_util import dumps\n",
    "import json\n",
    "import dns\n",
    "import requests\n",
    "import mongofnc as mf"
   ]
  },
  {
   "cell_type": "code",
   "execution_count": 13,
   "metadata": {},
   "outputs": [],
   "source": [
    "##get users from chat_id\n",
    "url_users=\"http://localhost:8080/users\"\n",
    "users = requests.get(url_users).json()"
   ]
  },
  {
   "cell_type": "code",
   "execution_count": 14,
   "metadata": {},
   "outputs": [
    {
     "name": "stdout",
     "output_type": "stream",
     "text": [
      "[{'_id': {'idUser': 10, 'userName': 'Alfonso'}}, {'_id': {'idUser': 3, 'userName': 'Tony Stark'}}, {'_id': {'idUser': 2, 'userName': 'Leia Organa'}}, {'_id': {'idUser': 1, 'userName': 'Mike Wazowski'}}, {'_id': {'idUser': 7, 'userName': 'Danny Torrance'}}, {'_id': {'idUser': 0, 'userName': 'John Wick'}}, {'_id': {'idUser': 5, 'userName': 'J. Jonah Jameson'}}, {'_id': {'idUser': 4, 'userName': 'Ellen Ripley'}}, {'_id': {'idUser': 8, 'userName': 'Michael'}}, {'_id': {'idUser': 6, 'userName': 'Danny Torrances Finger'}}, {'_id': {'idUser': 9, 'userName': 'Michael'}}]\n"
     ]
    }
   ],
   "source": [
    "print(users)"
   ]
  },
  {
   "cell_type": "code",
   "execution_count": 17,
   "metadata": {},
   "outputs": [],
   "source": [
    "##get chat from chat_id\n",
    "chat_id=0\n",
    "url_chat=\"http://localhost:8080/{}/messages\".format(chat_id)\n",
    "chat = requests.get(url_chat).json()"
   ]
  },
  {
   "cell_type": "code",
   "execution_count": 18,
   "metadata": {},
   "outputs": [
    {
     "name": "stdout",
     "output_type": "stream",
     "text": [
      "[{'_id': {'$oid': '5de4e7c3eeb51a9ea95da454'}, 'idUser': 0, 'userName': 'John Wick', 'idMessage': 0, 'idChat': 0, 'datetime': '2019-10-17 10:15:41', 'text': 'Hey Mike, whats up??'}, {'_id': {'$oid': '5de4e7c3eeb51a9ea95da455'}, 'idUser': 1, 'userName': 'Mike Wazowski', 'idMessage': 1, 'idChat': 0, 'datetime': '2019-10-17 10:16:59', 'text': 'Dude!!! 😀️ Did you watch the game last night?'}, {'_id': {'$oid': '5de4e7c3eeb51a9ea95da456'}, 'idUser': 0, 'userName': 'John Wick', 'idMessage': 2, 'idChat': 0, 'datetime': '2019-10-17 10:17:31', 'text': 'No, had to work. How was it?'}, {'_id': {'$oid': '5de4e7c3eeb51a9ea95da457'}, 'idUser': 1, 'userName': 'Mike Wazowski', 'idMessage': 3, 'idChat': 0, 'datetime': '2019-10-17 10:18:41', 'text': 'Awesome! Boyander scored 3 goals!'}, {'_id': {'$oid': '5de4e7c3eeb51a9ea95da458'}, 'idUser': 0, 'userName': 'John Wick', 'idMessage': 4, 'idChat': 0, 'datetime': '2019-10-17 10:19:41', 'text': 'No way! 😮️'}, {'_id': {'$oid': '5de4e7c3eeb51a9ea95da459'}, 'idUser': 1, 'userName': 'Mike Wazowski', 'idMessage': 5, 'idChat': 0, 'datetime': '2019-10-17 10:20:41', 'text': 'Way...'}, {'_id': {'$oid': '5de4e7c3eeb51a9ea95da45a'}, 'idUser': 0, 'userName': 'John Wick', 'idMessage': 6, 'idChat': 0, 'datetime': '2019-10-17 10:21:41', 'text': 'I bet people went crazy'}, {'_id': {'$oid': '5de4e7c3eeb51a9ea95da45b'}, 'idUser': 1, 'userName': 'Mike Wazowski', 'idMessage': 7, 'idChat': 0, 'datetime': '2019-10-17 10:22:41', 'text': 'For sure. We stayed at KuboLoco until 6AM.'}, {'_id': {'$oid': '5de4e7c3eeb51a9ea95da45c'}, 'idUser': 0, 'userName': 'John Wick', 'idMessage': 8, 'idChat': 0, 'datetime': '2019-10-17 10:23:41', 'text': 'Motherfucker! Hungover? 😵️'}, {'_id': {'$oid': '5de4e7c3eeb51a9ea95da45d'}, 'idUser': 1, 'userName': 'Mike Wazowski', 'idMessage': 9, 'idChat': 0, 'datetime': '2019-10-17 10:24:41', 'text': 'Dead, burried and still suffering! \\U0001f92e️'}]\n"
     ]
    }
   ],
   "source": [
    "print(chat)"
   ]
  },
  {
   "cell_type": "code",
   "execution_count": null,
   "metadata": {},
   "outputs": [],
   "source": []
  }
 ],
 "metadata": {
  "kernelspec": {
   "display_name": "Python 3",
   "language": "python",
   "name": "python3"
  },
  "language_info": {
   "codemirror_mode": {
    "name": "ipython",
    "version": 3
   },
   "file_extension": ".py",
   "mimetype": "text/x-python",
   "name": "python",
   "nbconvert_exporter": "python",
   "pygments_lexer": "ipython3",
   "version": "3.6.8"
  }
 },
 "nbformat": 4,
 "nbformat_minor": 2
}
