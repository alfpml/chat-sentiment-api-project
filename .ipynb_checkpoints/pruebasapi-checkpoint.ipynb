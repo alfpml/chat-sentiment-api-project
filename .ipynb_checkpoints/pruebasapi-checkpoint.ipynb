{
 "cells": [
  {
   "cell_type": "code",
   "execution_count": 33,
   "metadata": {},
   "outputs": [],
   "source": [
    "from bottle import route, run, get, post, request\n",
    "from bson.json_util import dumps\n",
    "import json\n",
    "import dns\n",
    "import requests\n",
    "import mongofnc as mf"
   ]
  },
  {
   "cell_type": "code",
   "execution_count": 28,
   "metadata": {},
   "outputs": [],
   "source": [
    "##get users from chat_id\n",
    "url_users=\"http://localhost:8080/users\"\n",
    "users = requests.get(url_users).json()"
   ]
  },
  {
   "cell_type": "code",
   "execution_count": 29,
   "metadata": {},
   "outputs": [
    {
     "name": "stdout",
     "output_type": "stream",
     "text": [
      "[{'_id': {'idUser': 10, 'userName': 'Alfonso'}}, {'_id': {'idUser': 3, 'userName': 'Tony Stark'}}, {'_id': {'idUser': 2, 'userName': 'Leia Organa'}}, {'_id': {'idUser': 1, 'userName': 'Mike Wazowski'}}, {'_id': {'idUser': 7, 'userName': 'Danny Torrance'}}, {'_id': {'idUser': 0, 'userName': 'John Wick'}}, {'_id': {'idUser': 5, 'userName': 'J. Jonah Jameson'}}, {'_id': {'idUser': 4, 'userName': 'Ellen Ripley'}}, {'_id': {'idUser': 8, 'userName': 'Michael'}}, {'_id': {'idUser': 6, 'userName': 'Danny Torrances Finger'}}, {'_id': {'idUser': 9, 'userName': 'Michael'}}]\n"
     ]
    }
   ],
   "source": [
    "print(users)"
   ]
  },
  {
   "cell_type": "code",
   "execution_count": 30,
   "metadata": {},
   "outputs": [
    {
     "data": {
      "text/plain": [
       "'name already in database'"
      ]
     },
     "execution_count": 30,
     "metadata": {},
     "output_type": "execute_result"
    }
   ],
   "source": [
    "##Create new user\n",
    "n1 = {\"name\":\"Alfonso\"}\n",
    "requests.post(\"http://localhost:8080/user/create\", n1).text"
   ]
  },
  {
   "cell_type": "code",
   "execution_count": 31,
   "metadata": {},
   "outputs": [
    {
     "data": {
      "text/plain": [
       "'user_id for Pepito is 11'"
      ]
     },
     "execution_count": 31,
     "metadata": {},
     "output_type": "execute_result"
    }
   ],
   "source": [
    "##Create new user\n",
    "n3 = {\"name\":\"Pepito\"}\n",
    "url = \"http://localhost:8080/user/create\"\n",
    "requests.post(url,data=n3).text"
   ]
  },
  {
   "cell_type": "code",
   "execution_count": 24,
   "metadata": {},
   "outputs": [
    {
     "data": {
      "text/plain": [
       "'name already in database'"
      ]
     },
     "execution_count": 24,
     "metadata": {},
     "output_type": "execute_result"
    }
   ],
   "source": [
    "##Create new user\n",
    "n4 = {\"name\":\"Pluto\"}\n",
    "url = \"http://localhost:8080/user/create\"\n",
    "requests.post(url,data=n2).text"
   ]
  },
  {
   "cell_type": "code",
   "execution_count": 32,
   "metadata": {},
   "outputs": [
    {
     "name": "stdout",
     "output_type": "stream",
     "text": [
      "[{'_id': {'idUser': 10, 'userName': 'Alfonso'}}, {'_id': {'idUser': 3, 'userName': 'Tony Stark'}}, {'_id': {'idUser': 2, 'userName': 'Leia Organa'}}, {'_id': {'idUser': 1, 'userName': 'Mike Wazowski'}}, {'_id': {'idUser': 7, 'userName': 'Danny Torrance'}}, {'_id': {'idUser': 0, 'userName': 'John Wick'}}, {'_id': {'idUser': 5, 'userName': 'J. Jonah Jameson'}}, {'_id': {'idUser': 4, 'userName': 'Ellen Ripley'}}, {'_id': {'idUser': 8, 'userName': 'Michael'}}, {'_id': {'idUser': 6, 'userName': 'Danny Torrances Finger'}}, {'_id': {'idUser': 11, 'userName': 'Pepito'}}, {'_id': {'idUser': 9, 'userName': 'Michael'}}]\n"
     ]
    }
   ],
   "source": [
    "##get users from chat_id\n",
    "url_users=\"http://localhost:8080/users\"\n",
    "users = requests.get(url_users).json()\n",
    "print(users)"
   ]
  },
  {
   "cell_type": "code",
   "execution_count": 38,
   "metadata": {},
   "outputs": [
    {
     "data": {
      "text/plain": [
       "<Response [500]>"
      ]
     },
     "execution_count": 38,
     "metadata": {},
     "output_type": "execute_result"
    }
   ],
   "source": [
    "##Add messages for a given chat\n",
    "mess = {\"name\": \"Alfonso\", \"message\": \"Project is not going well!\"}\n",
    "chat_id=0\n",
    "url = \"http://localhost:8080/chat/{}/addmessage\".format(chat_id)\n",
    "requests.post(url,data=mess)"
   ]
  },
  {
   "cell_type": "code",
   "execution_count": null,
   "metadata": {},
   "outputs": [],
   "source": []
  }
 ],
 "metadata": {
  "kernelspec": {
   "display_name": "Python 3",
   "language": "python",
   "name": "python3"
  },
  "language_info": {
   "codemirror_mode": {
    "name": "ipython",
    "version": 3
   },
   "file_extension": ".py",
   "mimetype": "text/x-python",
   "name": "python",
   "nbconvert_exporter": "python",
   "pygments_lexer": "ipython3",
   "version": "3.6.8"
  }
 },
 "nbformat": 4,
 "nbformat_minor": 2
}
