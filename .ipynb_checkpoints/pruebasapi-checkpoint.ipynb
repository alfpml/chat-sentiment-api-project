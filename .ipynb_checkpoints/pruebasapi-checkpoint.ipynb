{
 "cells": [
  {
   "cell_type": "code",
   "execution_count": 2,
   "metadata": {},
   "outputs": [
    {
     "name": "stdout",
     "output_type": "stream",
     "text": [
      "Insert your AtlasMongoDB admin_1019 password: ········\n"
     ]
    }
   ],
   "source": [
    "from bottle import route, run, get, post, request\n",
    "from bson.json_util import dumps\n",
    "import json\n",
    "import dns\n",
    "import requests\n",
    "import mongofnc as mf"
   ]
  },
  {
   "cell_type": "code",
   "execution_count": 3,
   "metadata": {},
   "outputs": [],
   "source": [
    "##get users from chat_id\n",
    "url_users=\"http://localhost:8080/users\"\n",
    "users = requests.get(url_users).json()"
   ]
  },
  {
   "cell_type": "code",
   "execution_count": 4,
   "metadata": {},
   "outputs": [
    {
     "name": "stdout",
     "output_type": "stream",
     "text": [
      "[{'_id': {'idUser': 12, 'userName': 'Alfonso'}}, {'_id': {'idUser': 10, 'userName': 'Alfonso'}}, {'_id': {'idUser': 3, 'userName': 'Tony Stark'}}, {'_id': {'idUser': 8, 'userName': 'Alfonso'}}, {'_id': {'idUser': 2, 'userName': 'Leia Organa'}}, {'_id': {'idUser': 1, 'userName': 'Mike Wazowski'}}, {'_id': {'idUser': 7, 'userName': 'Danny Torrance'}}, {'_id': {'idUser': 0, 'userName': 'John Wick'}}, {'_id': {'idUser': 5, 'userName': 'J. Jonah Jameson'}}, {'_id': {'idUser': 4, 'userName': 'Ellen Ripley'}}, {'_id': {'idUser': 8, 'userName': 'Michael'}}, {'_id': {'idUser': 6, 'userName': 'Danny Torrances Finger'}}, {'_id': {'idUser': 11, 'userName': 'Pepito'}}, {'_id': {'idUser': 9, 'userName': 'Michael'}}]\n"
     ]
    }
   ],
   "source": [
    "print(users)"
   ]
  },
  {
   "cell_type": "code",
   "execution_count": 5,
   "metadata": {},
   "outputs": [
    {
     "data": {
      "text/plain": [
       "'name already in database'"
      ]
     },
     "execution_count": 5,
     "metadata": {},
     "output_type": "execute_result"
    }
   ],
   "source": [
    "##Create new user\n",
    "n1 = {\"name\":\"Alfonso\"}\n",
    "requests.post(\"http://localhost:8080/user/create\", n1).text"
   ]
  },
  {
   "cell_type": "code",
   "execution_count": 43,
   "metadata": {},
   "outputs": [
    {
     "data": {
      "text/plain": [
       "'user_id for Pepito is 9'"
      ]
     },
     "execution_count": 43,
     "metadata": {},
     "output_type": "execute_result"
    }
   ],
   "source": [
    "##Create new user\n",
    "n3 = {\"name\":\"Pepito\"}\n",
    "url = \"http://localhost:8080/user/create\"\n",
    "requests.post(url,data=n3).text"
   ]
  },
  {
   "cell_type": "code",
   "execution_count": 7,
   "metadata": {},
   "outputs": [
    {
     "data": {
      "text/plain": [
       "'name already in database'"
      ]
     },
     "execution_count": 7,
     "metadata": {},
     "output_type": "execute_result"
    }
   ],
   "source": [
    "##Create new user\n",
    "n4 = {\"name\":\"Leia Organa\"}\n",
    "url = \"http://localhost:8080/user/create\"\n",
    "requests.post(url,data=n4).text"
   ]
  },
  {
   "cell_type": "code",
   "execution_count": 45,
   "metadata": {},
   "outputs": [
    {
     "name": "stdout",
     "output_type": "stream",
     "text": [
      "[{'_id': {'idUser': 12, 'userName': 'Alfonso'}}, {'_id': {'idUser': 10, 'userName': 'Alfonso'}}, {'_id': {'idUser': 3, 'userName': 'Tony Stark'}}, {'_id': {'idUser': 2, 'userName': 'Leia Organa'}}, {'_id': {'idUser': 1, 'userName': 'Mike Wazowski'}}, {'_id': {'idUser': 7, 'userName': 'Danny Torrance'}}, {'_id': {'idUser': 0, 'userName': 'John Wick'}}, {'_id': {'idUser': 5, 'userName': 'J. Jonah Jameson'}}, {'_id': {'idUser': 4, 'userName': 'Ellen Ripley'}}, {'_id': {'idUser': 8, 'userName': 'Michael'}}, {'_id': {'idUser': 6, 'userName': 'Danny Torrances Finger'}}, {'_id': {'idUser': 11, 'userName': 'Pepito'}}, {'_id': {'idUser': 9, 'userName': 'Michael'}}]\n"
     ]
    }
   ],
   "source": [
    "##get users from chat_id\n",
    "url_users=\"http://localhost:8080/users\"\n",
    "users = requests.get(url_users).json()\n",
    "print(users)"
   ]
  },
  {
   "cell_type": "code",
   "execution_count": 47,
   "metadata": {},
   "outputs": [
    {
     "data": {
      "text/plain": [
       "<Response [200]>"
      ]
     },
     "execution_count": 47,
     "metadata": {},
     "output_type": "execute_result"
    }
   ],
   "source": [
    "##Add messages for a given chat\n",
    "mess = {\"name\": \"Alfonso\", \"message\": \"Project is not going well!\"}\n",
    "chat_id=0\n",
    "url = \"http://localhost:8080/chat/{}/addmessage\".format(chat_id)\n",
    "requests.post(url,data=mess)"
   ]
  },
  {
   "cell_type": "code",
   "execution_count": 11,
   "metadata": {},
   "outputs": [
    {
     "data": {
      "text/plain": [
       "'[{}, {}, {}, {}, {}, {}, {}, {}, {}, {}, {}, {}, {}, {}, {}, {}, {}, {}, {}, {}, {}, {}, {}, {}, {}, {}, {}, {}, {}, {}, {}, {}, {}, {}, {}, {}, {}, {}, {}, {}, {}, {}, {}, {}, {}, {}, {}, {}, {}, {}, {}, {}, {}, {\"text\": \"Project is not going well!\"}]'"
      ]
     },
     "execution_count": 11,
     "metadata": {},
     "output_type": "execute_result"
    }
   ],
   "source": [
    "##Get messages from a given user\n",
    "user =\"Alfonso\"\n",
    "url = \"http://localhost:8080/{}/usermessages\".format(user)\n",
    "requests.get(url,data=user).text"
   ]
  },
  {
   "cell_type": "code",
   "execution_count": 12,
   "metadata": {},
   "outputs": [
    {
     "data": {
      "text/plain": [
       "'[{\"text\": \"Hey Mike, whats up??\"}, {\"text\": \"No, had to work. How was it?\"}, {\"text\": \"No way! \\\\ud83d\\\\ude2e\\\\ufe0f\"}, {\"text\": \"I bet people went crazy\"}, {\"text\": \"Motherfucker! Hungover? \\\\ud83d\\\\ude35\\\\ufe0f\"}, {\"text\": \"Sure, boss.\"}, {\"text\": \"I do! I just dont feel appreciated in my job\"}, {\"text\": \"I dunno...\"}, {\"text\": \"Maybe\"}, {\"text\": \"Thank you, boss! I feel much better...\"}]'"
      ]
     },
     "execution_count": 12,
     "metadata": {},
     "output_type": "execute_result"
    }
   ],
   "source": [
    "##Get messages from a given user\n",
    "user =\"John Wick\"\n",
    "url = \"http://localhost:8080/{}/usermessages\".format(user)\n",
    "requests.get(url,data=user).text"
   ]
  },
  {
   "cell_type": "code",
   "execution_count": null,
   "metadata": {},
   "outputs": [],
   "source": []
  }
 ],
 "metadata": {
  "kernelspec": {
   "display_name": "Python 3",
   "language": "python",
   "name": "python3"
  },
  "language_info": {
   "codemirror_mode": {
    "name": "ipython",
    "version": 3
   },
   "file_extension": ".py",
   "mimetype": "text/x-python",
   "name": "python",
   "nbconvert_exporter": "python",
   "pygments_lexer": "ipython3",
   "version": "3.6.8"
  }
 },
 "nbformat": 4,
 "nbformat_minor": 2
}
